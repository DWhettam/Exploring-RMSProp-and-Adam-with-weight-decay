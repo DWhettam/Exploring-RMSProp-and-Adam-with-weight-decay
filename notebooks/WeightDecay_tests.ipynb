{
 "cells": [
  {
   "cell_type": "code",
   "execution_count": 1,
   "metadata": {},
   "outputs": [
    {
     "name": "stdout",
     "output_type": "stream",
     "text": [
      "Adam with Weight Decay Learning Rule Functionality Test Passed\n"
     ]
    }
   ],
   "source": [
    "from mlp.tests import test_adam_with_weight_decay\n",
    "\n",
    "check_functionality, correct, outputs = test_adam_with_weight_decay()\n",
    "\n",
    "assert check_functionality == 1.0, (\n",
    "'The weight decay functionality test failed',\n",
    "'Correct output is \\n\\n{0}\\n\\n but returned output is \\n\\n{1}\\n\\n difference is \\n\\n{2}'\n",
    ".format(correct, outputs, outputs-correct)\n",
    ")\n",
    "\n",
    "print(\"Adam with Weight Decay Learning Rule Functionality Test Passed\")"
   ]
  },
  {
   "cell_type": "code",
   "execution_count": null,
   "metadata": {},
   "outputs": [],
   "source": []
  },
  {
   "cell_type": "code",
   "execution_count": null,
   "metadata": {},
   "outputs": [],
   "source": []
  },
  {
   "cell_type": "code",
   "execution_count": null,
   "metadata": {},
   "outputs": [],
   "source": []
  },
  {
   "cell_type": "code",
   "execution_count": null,
   "metadata": {},
   "outputs": [],
   "source": []
  }
 ],
 "metadata": {
  "kernelspec": {
   "display_name": "Python 3",
   "language": "python",
   "name": "python3"
  },
  "language_info": {
   "codemirror_mode": {
    "name": "ipython",
    "version": 3
   },
   "file_extension": ".py",
   "mimetype": "text/x-python",
   "name": "python",
   "nbconvert_exporter": "python",
   "pygments_lexer": "ipython3",
   "version": "3.7.0"
  }
 },
 "nbformat": 4,
 "nbformat_minor": 1
}
